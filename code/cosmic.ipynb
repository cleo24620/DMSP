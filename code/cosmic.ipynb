{
 "cells": [
  {
   "cell_type": "code",
   "execution_count": 15,
   "id": "initial_id",
   "metadata": {
    "collapsed": true,
    "ExecuteTime": {
     "end_time": "2023-10-31T16:24:59.489639700Z",
     "start_time": "2023-10-31T16:24:59.473391400Z"
    }
   },
   "outputs": [],
   "source": [
    "import netCDF4\n",
    "from netCDF4 import Dataset\n",
    "# import matplotlib.pyplot as plt\n",
    "import numpy as np"
   ]
  },
  {
   "cell_type": "code",
   "execution_count": 16,
   "outputs": [],
   "source": [
    "def get_ncobj(fn, root_dir=\"../data/\"):\n",
    "    f_path = root_dir + fn\n",
    "    return Dataset(f_path)"
   ],
   "metadata": {
    "collapsed": false,
    "ExecuteTime": {
     "end_time": "2023-10-31T16:24:59.490639600Z",
     "start_time": "2023-10-31T16:24:59.478426800Z"
    }
   },
   "id": "133e2a2dc498367f"
  },
  {
   "cell_type": "code",
   "execution_count": 17,
   "outputs": [],
   "source": [
    "root_dir = \"../data/ionPrf_prov1_2020_001/\"\n",
    "nc_obj = get_ncobj(\"ionPrf_C2E1.2020.001.00.04.G16_0001.0001_nc\",root_dir=root_dir)"
   ],
   "metadata": {
    "collapsed": false,
    "ExecuteTime": {
     "end_time": "2023-10-31T16:24:59.490639600Z",
     "start_time": "2023-10-31T16:24:59.485064300Z"
    }
   },
   "id": "f906758b728cd847"
  },
  {
   "cell_type": "code",
   "execution_count": 18,
   "outputs": [
    {
     "data": {
      "text/plain": "{'MSL_alt': <class 'netCDF4._netCDF4.Variable'>\n float32 MSL_alt(MSL_alt)\n     units: km\n     valid_range: [   0. 9999.]\n     _FillValue: -999.0\n     long_name: Mean sea level altitude of perigee point\n unlimited dimensions: \n current shape = (279,)\n filling on,\n 'GEO_lat': <class 'netCDF4._netCDF4.Variable'>\n float32 GEO_lat(MSL_alt)\n     units: degrees_north\n     valid_range: [-90.  90.]\n     _FillValue: -999.0\n     long_name: Geographical latitude of perigee point\n unlimited dimensions: \n current shape = (279,)\n filling on,\n 'GEO_lon': <class 'netCDF4._netCDF4.Variable'>\n float32 GEO_lon(MSL_alt)\n     units: degrees_east\n     valid_range: [-180.  180.]\n     _FillValue: -999.0\n     long_name: Geographical longitude of perigee point\n unlimited dimensions: \n current shape = (279,)\n filling on,\n 'OCC_azi': <class 'netCDF4._netCDF4.Variable'>\n float32 OCC_azi(MSL_alt)\n     units: deg\n     valid_range: [-180.  180.]\n     _FillValue: -999.0\n     long_name: Azimuth angle of occ. plane with respect to north\n unlimited dimensions: \n current shape = (279,)\n filling on,\n 'TEC_cal': <class 'netCDF4._netCDF4.Variable'>\n float32 TEC_cal(MSL_alt)\n     units: TECU\n     valid_range: [-1.e+08  1.e+08]\n     _FillValue: -999.0\n     long_name: Calibrated occultation TEC below LEO orbit\n unlimited dimensions: \n current shape = (279,)\n filling on,\n 'ELEC_dens': <class 'netCDF4._netCDF4.Variable'>\n float32 ELEC_dens(MSL_alt)\n     units: el/cm3\n     valid_range: [-1.e+08  1.e+08]\n     _FillValue: -999.0\n     long_name: Electron density\n unlimited dimensions: \n current shape = (279,)\n filling on}"
     },
     "execution_count": 18,
     "metadata": {},
     "output_type": "execute_result"
    }
   ],
   "source": [
    "nc_obj.variables"
   ],
   "metadata": {
    "collapsed": false,
    "ExecuteTime": {
     "end_time": "2023-10-31T16:24:59.505530900Z",
     "start_time": "2023-10-31T16:24:59.489639700Z"
    }
   },
   "id": "b7431acddd8c41e9"
  },
  {
   "cell_type": "code",
   "execution_count": 19,
   "outputs": [
    {
     "data": {
      "text/plain": "<class 'netCDF4._netCDF4.Variable'>\nfloat32 TEC_cal(MSL_alt)\n    units: TECU\n    valid_range: [-1.e+08  1.e+08]\n    _FillValue: -999.0\n    long_name: Calibrated occultation TEC below LEO orbit\nunlimited dimensions: \ncurrent shape = (279,)\nfilling on"
     },
     "execution_count": 19,
     "metadata": {},
     "output_type": "execute_result"
    }
   ],
   "source": [
    "nc_obj.variables['TEC_cal']"
   ],
   "metadata": {
    "collapsed": false,
    "ExecuteTime": {
     "end_time": "2023-10-31T16:24:59.546065Z",
     "start_time": "2023-10-31T16:24:59.498893200Z"
    }
   },
   "id": "46279922fe7c88e9"
  },
  {
   "cell_type": "code",
   "execution_count": 20,
   "outputs": [],
   "source": [
    "TEC_cal = nc_obj.variables['TEC_cal'][:]\n",
    "TEC_cal = np.array(TEC_cal)"
   ],
   "metadata": {
    "collapsed": false,
    "ExecuteTime": {
     "end_time": "2023-10-31T16:24:59.548572500Z",
     "start_time": "2023-10-31T16:24:59.506531700Z"
    }
   },
   "id": "36b50867fb600cde"
  },
  {
   "cell_type": "code",
   "execution_count": 21,
   "outputs": [
    {
     "data": {
      "text/plain": "<class 'netCDF4._netCDF4.Variable'>\nfloat32 ELEC_dens(MSL_alt)\n    units: el/cm3\n    valid_range: [-1.e+08  1.e+08]\n    _FillValue: -999.0\n    long_name: Electron density\nunlimited dimensions: \ncurrent shape = (279,)\nfilling on"
     },
     "execution_count": 21,
     "metadata": {},
     "output_type": "execute_result"
    }
   ],
   "source": [
    "nc_obj.variables['ELEC_dens']"
   ],
   "metadata": {
    "collapsed": false,
    "ExecuteTime": {
     "end_time": "2023-10-31T16:24:59.548572500Z",
     "start_time": "2023-10-31T16:24:59.511155900Z"
    }
   },
   "id": "37d842c1be72c592"
  },
  {
   "cell_type": "code",
   "execution_count": 24,
   "outputs": [
    {
     "ename": "ValueError",
     "evalue": "maximum supported dimension for an ndarray is 32, found 279",
     "output_type": "error",
     "traceback": [
      "\u001B[1;31m---------------------------------------------------------------------------\u001B[0m",
      "\u001B[1;31mValueError\u001B[0m                                Traceback (most recent call last)",
      "Cell \u001B[1;32mIn[24], line 2\u001B[0m\n\u001B[0;32m      1\u001B[0m ELEC_dens \u001B[38;5;241m=\u001B[39m nc_obj\u001B[38;5;241m.\u001B[39mvariables[\u001B[38;5;124m'\u001B[39m\u001B[38;5;124mELEC_dens\u001B[39m\u001B[38;5;124m'\u001B[39m][:]\n\u001B[1;32m----> 2\u001B[0m ELEC_dens \u001B[38;5;241m=\u001B[39m \u001B[43mnp\u001B[49m\u001B[38;5;241;43m.\u001B[39;49m\u001B[43mndarray\u001B[49m\u001B[43m(\u001B[49m\u001B[43mELEC_dens\u001B[49m\u001B[43m)\u001B[49m\n",
      "\u001B[1;31mValueError\u001B[0m: maximum supported dimension for an ndarray is 32, found 279"
     ]
    }
   ],
   "source": [
    "ELEC_dens = nc_obj.variables['ELEC_dens'][:]\n",
    "ELEC_dens = np.ndarray(ELEC_dens)"
   ],
   "metadata": {
    "collapsed": false,
    "ExecuteTime": {
     "end_time": "2023-10-31T16:26:21.278582900Z",
     "start_time": "2023-10-31T16:26:21.263605900Z"
    }
   },
   "id": "cf6a075e1ccc398d"
  },
  {
   "cell_type": "code",
   "execution_count": 25,
   "outputs": [],
   "source": [
    "nc_obj = get_ncobj(\"ionPrf_C2E1.2020.001.00.07.G06_0001.0001_nc\",root_dir=root_dir)"
   ],
   "metadata": {
    "collapsed": false,
    "ExecuteTime": {
     "end_time": "2023-10-31T16:28:47.529540200Z",
     "start_time": "2023-10-31T16:28:47.514817Z"
    }
   },
   "id": "bf437fbc5e9e22b0"
  },
  {
   "cell_type": "code",
   "execution_count": 26,
   "outputs": [
    {
     "data": {
      "text/plain": "{'MSL_alt': <class 'netCDF4._netCDF4.Variable'>\n float32 MSL_alt(MSL_alt)\n     units: km\n     valid_range: [   0. 9999.]\n     _FillValue: -999.0\n     long_name: Mean sea level altitude of perigee point\n unlimited dimensions: \n current shape = (335,)\n filling on,\n 'GEO_lat': <class 'netCDF4._netCDF4.Variable'>\n float32 GEO_lat(MSL_alt)\n     units: degrees_north\n     valid_range: [-90.  90.]\n     _FillValue: -999.0\n     long_name: Geographical latitude of perigee point\n unlimited dimensions: \n current shape = (335,)\n filling on,\n 'GEO_lon': <class 'netCDF4._netCDF4.Variable'>\n float32 GEO_lon(MSL_alt)\n     units: degrees_east\n     valid_range: [-180.  180.]\n     _FillValue: -999.0\n     long_name: Geographical longitude of perigee point\n unlimited dimensions: \n current shape = (335,)\n filling on,\n 'OCC_azi': <class 'netCDF4._netCDF4.Variable'>\n float32 OCC_azi(MSL_alt)\n     units: deg\n     valid_range: [-180.  180.]\n     _FillValue: -999.0\n     long_name: Azimuth angle of occ. plane with respect to north\n unlimited dimensions: \n current shape = (335,)\n filling on,\n 'TEC_cal': <class 'netCDF4._netCDF4.Variable'>\n float32 TEC_cal(MSL_alt)\n     units: TECU\n     valid_range: [-1.e+08  1.e+08]\n     _FillValue: -999.0\n     long_name: Calibrated occultation TEC below LEO orbit\n unlimited dimensions: \n current shape = (335,)\n filling on,\n 'ELEC_dens': <class 'netCDF4._netCDF4.Variable'>\n float32 ELEC_dens(MSL_alt)\n     units: el/cm3\n     valid_range: [-1.e+08  1.e+08]\n     _FillValue: -999.0\n     long_name: Electron density\n unlimited dimensions: \n current shape = (335,)\n filling on}"
     },
     "execution_count": 26,
     "metadata": {},
     "output_type": "execute_result"
    }
   ],
   "source": [
    "nc_obj.variables"
   ],
   "metadata": {
    "collapsed": false,
    "ExecuteTime": {
     "end_time": "2023-10-31T16:28:56.075849100Z",
     "start_time": "2023-10-31T16:28:56.067525900Z"
    }
   },
   "id": "608b2671a557d077"
  }
 ],
 "metadata": {
  "kernelspec": {
   "display_name": "Python 3",
   "language": "python",
   "name": "python3"
  },
  "language_info": {
   "codemirror_mode": {
    "name": "ipython",
    "version": 2
   },
   "file_extension": ".py",
   "mimetype": "text/x-python",
   "name": "python",
   "nbconvert_exporter": "python",
   "pygments_lexer": "ipython2",
   "version": "2.7.6"
  }
 },
 "nbformat": 4,
 "nbformat_minor": 5
}
