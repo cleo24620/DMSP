{
 "cells": [
  {
   "metadata": {
    "ExecuteTime": {
     "end_time": "2024-05-04T12:55:13.125613Z",
     "start_time": "2024-05-04T12:55:12.009256Z"
    }
   },
   "cell_type": "code",
   "source": [
    "import os\n",
    "from datetime import datetime\n",
    "\n",
    "from netCDF4 import Dataset\n",
    "import spacepy.pycdf\n",
    "import h5py\n",
    "import numpy as np\n",
    "import pandas as pd\n",
    "from scipy.fft import fft, fftfreq\n",
    "import matplotlib.pyplot as plt\n",
    "import matplotlib.dates as mdates\n",
    "import re\n",
    "\n",
    "import pyDMSP"
   ],
   "id": "5f962a18003c76d",
   "outputs": [],
   "execution_count": 1
  },
  {
   "metadata": {
    "ExecuteTime": {
     "end_time": "2024-05-04T12:55:13.129694Z",
     "start_time": "2024-05-04T12:55:13.126618Z"
    }
   },
   "cell_type": "code",
   "source": [
    "ssies3_fp = r\"G:\\0_postgraduate\\DMSP\\data\\2014\\f16\\ssies3\\dmsp-f16_ssies-3_thermal-plasma_201401010137_v01.cdf\"\n",
    "ssm_fp = r\"G:\\0_postgraduate\\DMSP\\data\\2014\\f16\\ssm\\dmsp-f16_ssm_magnetometer_20140101_v1.0.4.cdf\""
   ],
   "id": "a238970d7fa1750",
   "outputs": [],
   "execution_count": 2
  },
  {
   "metadata": {
    "ExecuteTime": {
     "end_time": "2024-05-04T12:55:13.696388Z",
     "start_time": "2024-05-04T12:55:13.130700Z"
    }
   },
   "cell_type": "code",
   "source": "ssies3_data, ssm_data = pyDMSP.data_for_draw(ssies3_fp,ssm_fp)",
   "id": "acfa4e270b6b34b7",
   "outputs": [],
   "execution_count": 3
  },
  {
   "metadata": {
    "jupyter": {
     "is_executing": true
    }
   },
   "cell_type": "code",
   "source": "fig = pyDMSP.draw_ssies3_ssm(ssies3_data,ssm_data,ssies3_v_str='V_SC',ssm_v_str='DELTA_B_SC',ssies3_unit='m/s',ssm_unit='nT',dhm='01010137', title_part='ssies3_ssm_v_b')",
   "id": "3e8b51958e9910bf",
   "outputs": [],
   "execution_count": null
  }
 ],
 "metadata": {
  "kernelspec": {
   "display_name": "Python 3",
   "language": "python",
   "name": "python3"
  },
  "language_info": {
   "codemirror_mode": {
    "name": "ipython",
    "version": 2
   },
   "file_extension": ".py",
   "mimetype": "text/x-python",
   "name": "python",
   "nbconvert_exporter": "python",
   "pygments_lexer": "ipython2",
   "version": "2.7.6"
  }
 },
 "nbformat": 4,
 "nbformat_minor": 5
}
