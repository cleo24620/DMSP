{
 "cells": [
  {
   "cell_type": "code",
   "execution_count": 1,
   "outputs": [],
   "source": [
    "f_path = r\"../data/2022-1-31至2022-2-4-iono/_GFZ0OPSFIN_20220300000_01D_02H_ION.IOX\"\n",
    "\n",
    "with open(f_path) as f:\n",
    "    fo = f.readlines()"
   ],
   "metadata": {
    "collapsed": false,
    "ExecuteTime": {
     "end_time": "2023-11-01T07:12:40.421680300Z",
     "start_time": "2023-11-01T07:12:40.414690800Z"
    }
   },
   "id": "22a39b5a5aba8957"
  }
 ],
 "metadata": {
  "kernelspec": {
   "display_name": "Python 3",
   "language": "python",
   "name": "python3"
  },
  "language_info": {
   "codemirror_mode": {
    "name": "ipython",
    "version": 2
   },
   "file_extension": ".py",
   "mimetype": "text/x-python",
   "name": "python",
   "nbconvert_exporter": "python",
   "pygments_lexer": "ipython2",
   "version": "2.7.6"
  }
 },
 "nbformat": 4,
 "nbformat_minor": 5
}
