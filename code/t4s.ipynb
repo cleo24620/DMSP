{
 "cells": [
  {
   "cell_type": "code",
   "id": "initial_id",
   "metadata": {
    "collapsed": true,
    "ExecuteTime": {
     "end_time": "2024-04-17T09:04:35.377710Z",
     "start_time": "2024-04-17T09:04:34.887199Z"
    }
   },
   "source": [
    "from refractor_funcs import read_nc_details, get_data\n",
    "\n",
    "file_path = r\"G:\\0_postgraduate\\DMSP\\data\\2011\\15s4\\dms_20110909_15s4.002.nc\"\n",
    "data_details = read_nc_details(file_path)\n",
    "data = get_data(file_path, data_details.keys())"
   ],
   "outputs": [],
   "execution_count": 1
  }
 ],
 "metadata": {
  "kernelspec": {
   "display_name": "Python 3",
   "language": "python",
   "name": "python3"
  },
  "language_info": {
   "codemirror_mode": {
    "name": "ipython",
    "version": 2
   },
   "file_extension": ".py",
   "mimetype": "text/x-python",
   "name": "python",
   "nbconvert_exporter": "python",
   "pygments_lexer": "ipython2",
   "version": "2.7.6"
  }
 },
 "nbformat": 4,
 "nbformat_minor": 5
}
