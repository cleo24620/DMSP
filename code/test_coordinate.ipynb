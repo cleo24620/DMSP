{
 "cells": [
  {
   "cell_type": "code",
   "id": "initial_id",
   "metadata": {
    "collapsed": true,
    "ExecuteTime": {
     "end_time": "2024-05-02T17:00:25.656672Z",
     "start_time": "2024-05-02T17:00:24.807605Z"
    }
   },
   "source": [
    "import os\n",
    "from datetime import datetime\n",
    "\n",
    "from netCDF4 import Dataset\n",
    "import spacepy.pycdf\n",
    "import h5py\n",
    "import numpy as np\n",
    "import pandas as pd\n",
    "from scipy.fft import fft, fftfreq\n",
    "import matplotlib.pyplot as plt\n",
    "import matplotlib.dates as mdates\n",
    "import re\n",
    "\n",
    "import libs_cleo\n",
    "\n",
    "plt.rcParams['figure.figsize'] = [20, 5]  # 设置图形的默认尺寸为20x5英寸"
   ],
   "outputs": [],
   "execution_count": 1
  },
  {
   "metadata": {
    "ExecuteTime": {
     "end_time": "2024-05-02T17:00:25.693338Z",
     "start_time": "2024-05-02T17:00:25.664968Z"
    }
   },
   "cell_type": "code",
   "source": [
    "# ssies3\n",
    "ssies3_infos = pd.DataFrame()\n",
    "ssies3_infos['fp'] = libs_cleo.return_suffix_file_paths(r\"G:\\0_postgraduate\\DMSP\\data\\2014\\f16\\ssies3\")\n",
    "days = []\n",
    "for fp in ssies3_infos['fp']:\n",
    "    pattern = r\"G:\\\\0_postgraduate\\\\DMSP\\\\data\\\\2014\\\\f16\\\\ssies3\\\\dmsp-f16_ssies-3_thermal-plasma_2014(\\d{4})\"\n",
    "    match = re.search(pattern,fp)\n",
    "    days.append(match.group(1))\n",
    "ssies3_infos['day'] = days\n",
    "# ssm\n",
    "ssm_fps = libs_cleo.return_suffix_file_paths(r\"G:\\0_postgraduate\\DMSP\\data\\2014\\f16\\ssm\")\n",
    "ssm_infos = pd.DataFrame()\n",
    "ssm_infos['fp'] = ssm_fps\n",
    "days = []\n",
    "for fp in ssm_infos['fp']:\n",
    "    pattern = r\"G:\\\\0_postgraduate\\\\DMSP\\\\data\\\\2014\\\\f16\\\\ssm\\\\dmsp-f16_ssm_magnetometer_2014(\\d{4})\"\n",
    "    match = re.search(pattern,fp)\n",
    "    days.append(match.group(1))\n",
    "ssm_infos['day'] = days"
   ],
   "id": "cd58962c0c13d927",
   "outputs": [],
   "execution_count": 2
  },
  {
   "metadata": {
    "ExecuteTime": {
     "end_time": "2024-05-02T17:01:20.181202Z",
     "start_time": "2024-05-02T17:01:20.109765Z"
    }
   },
   "cell_type": "code",
   "source": [
    "for fp_ssies3,day_ssies3 in zip(ssies3_infos['fp'],ssies3_infos['day']):\n",
    "    for fp_ssm,day_ssm in zip(ssm_infos['fp'],ssm_infos['day']):\n",
    "        if day_ssies3 == day_ssm:\n",
    "            try:\n",
    "                # Object CDFFile\n",
    "                ssies3 = libs_cleo.CDFFile(fp_ssies3)\n",
    "                ssm = libs_cleo.CDFFile(fp_ssm)\n",
    "                # data\n",
    "                data_ssies3 = ssies3.ssies3_data()\n",
    "                data_ssm = ssm.ssm_data()\n",
    "                # v set nan\n",
    "                vx_set_nan = ssies3.vx_set_nan()\n",
    "                vy_set_nan = ssies3.v_yz_set_nan(v_str='vy')\n",
    "                vz_set_nan = ssies3.v_yz_set_nan(v_str='vz')\n",
    "                # change the coordinate system of v\n",
    "                data_dic = {'Epoch':vx_set_nan['Epoch'], 'V_SC_x':-vz_set_nan['vz'], 'V_SC_y':vx_set_nan['vx'], 'V_SC_z':-vy_set_nan['vy']}\n",
    "                ssies3_data_SC = pd.DataFrame(data_dic)\n",
    "                # ssm clip\n",
    "                st = data_ssies3['timestamps'].iloc[0]\n",
    "                et = data_ssies3['timestamps'].iloc[-1]\n",
    "                s_idx = np.where(data_ssm['timestamps']==st)\n",
    "                e_idx = np.where(data_ssm['timestamps']==et)\n",
    "                data_ssm_clip = data_ssm.iloc[s_idx[0][0]:e_idx[0][0] + 1].reset_index(drop=True)\n",
    "                # draw\n",
    "                fig,axs = plt.subplots(3, 1,figsize=(20,5*3))\n",
    "                ax1 = axs[0,0]\n",
    "                ax2 = axs[1,0]\n",
    "                ax3 = axs[2,0]\n",
    "                # x\n",
    "                ax1.plot(ssies3_data_SC['Epoch'],ssies3_data_SC['V_SC_x'],label='vx')\n",
    "                ax1.plot(data_ssm_clip['Epoch'], data_ssm_clip['DELTA_B_SC_x'], label='delta_bx')\n",
    "                # ax.plot(data_ssm_1['Epoch'],data_ssm_1['DELTA_B_SC_ORIG_y'],label='delta_b_orig_x')\n",
    "                ax1.xaxis.set_major_locator(mdates.MinuteLocator(byminute=[0,15,30,45]))  # 只在某些时刻显示刻度\n",
    "                ax1.xaxis.set_major_formatter(mdates.DateFormatter('%H:%M'))  # 格式化显示格式\n",
    "                # 在x=0处添加一条红色虚线\n",
    "                ax1.axhline(y=0, color='red', linestyle='--', label='y = 0')\n",
    "                ax1.legend()\n",
    "                ax1.set_title('x direction')\n",
    "                # y\n",
    "                ax2.plot(ssies3_data_SC['Epoch'],ssies3_data_SC['V_SC_y'],label='vy')\n",
    "                ax2.plot(data_ssm_clip['Epoch'], data_ssm_clip['DELTA_B_SC_y'], label='delta_by')\n",
    "                # ax.plot(data_ssm_1['Epoch'],data_ssm_1['DELTA_B_SC_ORIG_z'],label='delta_b_orig_y')\n",
    "                ax2.xaxis.set_major_locator(mdates.MinuteLocator(byminute=[0,15,30,45]))  # 只在某些时刻显示刻度\n",
    "                ax2.xaxis.set_major_formatter(mdates.DateFormatter('%H:%M'))  # 格式化显示格式\n",
    "                # 在x=0处添加一条红色虚线\n",
    "                ax2.axhline(y=0, color='red', linestyle='--', label='y = 0')\n",
    "                ax2.legend()\n",
    "                ax2.set_title('y direction')\n",
    "                # z\n",
    "                ax3.plot(ssies3_data_SC['Epoch'],ssies3_data_SC['V_SC_z'],label='vz')\n",
    "                ax3.plot(data_ssm_clip['Epoch'], data_ssm_clip['DELTA_B_SC_z'], label='delta_bz')\n",
    "                # ax.plot(data_ssm_1['Epoch'],data_ssm_1['DELTA_B_SC_ORIG_x'],label='delta_b_orig_z')\n",
    "                ax3.xaxis.set_major_locator(mdates.MinuteLocator(byminute=[0,15,30,45]))  # 只在某些时刻显示刻度\n",
    "                ax3.xaxis.set_major_formatter(mdates.DateFormatter('%H:%M'))  # 格式化显示格式\n",
    "                # 在x=0处添加一条红色虚线\n",
    "                ax3.axhline(y=0, color='red', linestyle='--', label='y = 0')\n",
    "                ax3.legend()\n",
    "                ax3.set_title('z direction')\n",
    "                # fig title\n",
    "                fig.suptitle(f'{day_ssies3} ssies3_ssm_v_b')\n",
    "                # save\n",
    "                fig_save_path = r\"G:\\0_postgraduate\\DMSP\\fig\\ssies3_ssm_v_b\"\n",
    "                if not os.path.exists(fig_save_path):\n",
    "                    os.makedirs(fig_save_path)\n",
    "                save_fig_path = os.path.join(fig_save_path,f\"ssies3_ssm_v_b_{day_ssies3}.png\")\n",
    "                plt.savefig(save_fig_path)\n",
    "                plt.close(fig)\n",
    "                print(f\"ssies3_ssm_v_b_{day_ssies3}.png already save.\")\n",
    "            except Exception as e:\n",
    "                print(e)"
   ],
   "id": "e0591d2933fe16f6",
   "outputs": [
    {
     "ename": "NameError",
     "evalue": "name 'ssies3_infos' is not defined",
     "output_type": "error",
     "traceback": [
      "\u001B[1;31m---------------------------------------------------------------------------\u001B[0m",
      "\u001B[1;31mNameError\u001B[0m                                 Traceback (most recent call last)",
      "Cell \u001B[1;32mIn[3], line 1\u001B[0m\n\u001B[1;32m----> 1\u001B[0m \u001B[38;5;28;01mfor\u001B[39;00m fp_ssies3,day_ssies3 \u001B[38;5;129;01min\u001B[39;00m \u001B[38;5;28mzip\u001B[39m(\u001B[43mssies3_infos\u001B[49m[\u001B[38;5;124m'\u001B[39m\u001B[38;5;124mfp\u001B[39m\u001B[38;5;124m'\u001B[39m],ssies3_infos[\u001B[38;5;124m'\u001B[39m\u001B[38;5;124mday\u001B[39m\u001B[38;5;124m'\u001B[39m]):\n\u001B[0;32m      2\u001B[0m     \u001B[38;5;28;01mfor\u001B[39;00m fp_ssm,day_ssm \u001B[38;5;129;01min\u001B[39;00m \u001B[38;5;28mzip\u001B[39m(ssm_infos[\u001B[38;5;124m'\u001B[39m\u001B[38;5;124mfp\u001B[39m\u001B[38;5;124m'\u001B[39m],ssm_infos[\u001B[38;5;124m'\u001B[39m\u001B[38;5;124mday\u001B[39m\u001B[38;5;124m'\u001B[39m]):\n\u001B[0;32m      3\u001B[0m         \u001B[38;5;28;01mif\u001B[39;00m day_ssies3 \u001B[38;5;241m==\u001B[39m day_ssm:\n",
      "\u001B[1;31mNameError\u001B[0m: name 'ssies3_infos' is not defined"
     ]
    }
   ],
   "execution_count": 3
  }
 ],
 "metadata": {
  "kernelspec": {
   "display_name": "Python 3",
   "language": "python",
   "name": "python3"
  },
  "language_info": {
   "codemirror_mode": {
    "name": "ipython",
    "version": 2
   },
   "file_extension": ".py",
   "mimetype": "text/x-python",
   "name": "python",
   "nbconvert_exporter": "python",
   "pygments_lexer": "ipython2",
   "version": "2.7.6"
  }
 },
 "nbformat": 4,
 "nbformat_minor": 5
}
