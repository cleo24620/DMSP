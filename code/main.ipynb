{
 "cells": [
  {
   "cell_type": "code",
   "execution_count": 6,
   "id": "initial_id",
   "metadata": {
    "collapsed": true,
    "ExecuteTime": {
     "end_time": "2023-12-25T05:42:26.935193100Z",
     "start_time": "2023-12-25T05:42:24.054955100Z"
    }
   },
   "outputs": [],
   "source": [
    "# 获取所需数据\n",
    "from funcs import read_ut,read_1s,need_data\n",
    "\n",
    "d_ut,d_ut_flag = read_ut(\"../data/f15ut/2011/\",\"dms_ut_20110101_15.002.nc\")\n",
    "d_1s,d_1s_to_ut = read_1s(\"../data/f15s1/2011/\",\"dms_20110101_15s1.001.nc\",\"../data/f15ut/2011/\",\"dms_ut_20110101_15.002.nc\")\n",
    "need_d = need_data(d_ut_flag,d_1s_to_ut,\"2010\",\"12\",\"31\")"
   ]
  },
  {
   "cell_type": "code",
   "outputs": [],
   "source": [
    "t=need_d['vax']-need_d['vx_prime']"
   ],
   "metadata": {
    "collapsed": false,
    "ExecuteTime": {
     "end_time": "2023-12-25T05:42:35.811379100Z",
     "start_time": "2023-12-25T05:42:35.807319800Z"
    }
   },
   "id": "72f090d34c8582af",
   "execution_count": 7
  },
  {
   "cell_type": "code",
   "execution_count": null,
   "outputs": [],
   "source": [
    "# # 绘图\n",
    "# datetime_ = pd.to_datetime(seconds,unit='s',\n",
    "#                origin=pd.Timestamp('2011-09-09'))\n",
    "# data_dic = {'datetime':datetime_, 'm_bz':m_bz}\n",
    "# data_pd = pd.DataFrame(data_dic,index=datetime_)\n",
    "# data_pd['m_bz'].plot()\n",
    "# \n",
    "# # 绘制多个函数\n",
    "# data_ssm_bool[['m_bx','m_by','m_bz']].plot(rot=20,figsize=(15,5))\n",
    "# \n",
    "# 标记x轴坐标值\n",
    "# fig,ax = plt.subplots()\n",
    "# data_f15_ut.plot(ax=ax,x='timestamps',y='vz',rot=20)\n",
    "# for_xlabels = [d[-8:] for d in data_f15_ut['time'][[0,2698,5396,8094,10792]]]\n",
    "# ax.set_xticks(data_f15_ut['timestamps'][[0,2698,5396,8094,10792]],labels=for_xlabels)"
   ],
   "metadata": {
    "collapsed": false
   },
   "id": "a68a8be4dc1e91ca"
  }
 ],
 "metadata": {
  "kernelspec": {
   "display_name": "Python 3",
   "language": "python",
   "name": "python3"
  },
  "language_info": {
   "codemirror_mode": {
    "name": "ipython",
    "version": 2
   },
   "file_extension": ".py",
   "mimetype": "text/x-python",
   "name": "python",
   "nbconvert_exporter": "python",
   "pygments_lexer": "ipython2",
   "version": "2.7.6"
  }
 },
 "nbformat": 4,
 "nbformat_minor": 5
}
