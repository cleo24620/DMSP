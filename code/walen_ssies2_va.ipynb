{
 "cells": [
  {
   "metadata": {
    "ExecuteTime": {
     "end_time": "2024-05-04T13:31:51.065730Z",
     "start_time": "2024-05-04T13:31:50.973374Z"
    }
   },
   "cell_type": "code",
   "source": [
    "import pyDMSP\n",
    "import numpy as np\n",
    "import matplotlib.pyplot as plt\n",
    "from scipy.fft import fft, fftfreq\n",
    "from scipy.interpolate import interp1d\n",
    "import numpy as np\n",
    "import matplotlib.pyplot as plt\n",
    "import pandas as pd\n",
    "import os\n",
    "import glob\n",
    "from netCDF4 import Dataset\n",
    "import time\n",
    "import re"
   ],
   "id": "90de3dad99dfc777",
   "outputs": [],
   "execution_count": 3
  },
  {
   "metadata": {
    "ExecuteTime": {
     "end_time": "2024-05-04T13:31:51.167939Z",
     "start_time": "2024-05-04T13:31:51.066735Z"
    }
   },
   "cell_type": "code",
   "source": [
    "file_path_s1 = r\"G:\\0_postgraduate\\DMSP\\data\\2011\\15s1\\dms_20110101_15s1.001.nc\"\n",
    "file_path_ut = r\"G:\\0_postgraduate\\DMSP\\data\\2011\\ut\\dms_ut_20110101_15.002.nc\"\n",
    "s1 = pyDMSP.NcFile(file_path_s1)\n",
    "ut = pyDMSP.NcFile(file_path_ut)\n",
    "data_s1 = s1.original_data\n",
    "data_ut = ut.original_data"
   ],
   "id": "6d8b4d09ab0db17a",
   "outputs": [
    {
     "ename": "FileNotFoundError",
     "evalue": "[Errno 2] No such file or directory: 'G:\\\\0_postgraduate\\\\DMSP\\\\data\\\\2011\\\\15s1\\\\dms_20110101_15s1.001.nc'",
     "output_type": "error",
     "traceback": [
      "\u001B[1;31m---------------------------------------------------------------------------\u001B[0m",
      "\u001B[1;31mFileNotFoundError\u001B[0m                         Traceback (most recent call last)",
      "Cell \u001B[1;32mIn[4], line 3\u001B[0m\n\u001B[0;32m      1\u001B[0m file_path_s1 \u001B[38;5;241m=\u001B[39m \u001B[38;5;124mr\u001B[39m\u001B[38;5;124m\"\u001B[39m\u001B[38;5;124mG:\u001B[39m\u001B[38;5;124m\\\u001B[39m\u001B[38;5;124m0_postgraduate\u001B[39m\u001B[38;5;124m\\\u001B[39m\u001B[38;5;124mDMSP\u001B[39m\u001B[38;5;124m\\\u001B[39m\u001B[38;5;124mdata\u001B[39m\u001B[38;5;124m\\\u001B[39m\u001B[38;5;124m2011\u001B[39m\u001B[38;5;124m\\\u001B[39m\u001B[38;5;124m15s1\u001B[39m\u001B[38;5;124m\\\u001B[39m\u001B[38;5;124mdms_20110101_15s1.001.nc\u001B[39m\u001B[38;5;124m\"\u001B[39m\n\u001B[0;32m      2\u001B[0m file_path_ut \u001B[38;5;241m=\u001B[39m \u001B[38;5;124mr\u001B[39m\u001B[38;5;124m\"\u001B[39m\u001B[38;5;124mG:\u001B[39m\u001B[38;5;124m\\\u001B[39m\u001B[38;5;124m0_postgraduate\u001B[39m\u001B[38;5;124m\\\u001B[39m\u001B[38;5;124mDMSP\u001B[39m\u001B[38;5;124m\\\u001B[39m\u001B[38;5;124mdata\u001B[39m\u001B[38;5;124m\\\u001B[39m\u001B[38;5;124m2011\u001B[39m\u001B[38;5;124m\\\u001B[39m\u001B[38;5;124mut\u001B[39m\u001B[38;5;124m\\\u001B[39m\u001B[38;5;124mdms_ut_20110101_15.002.nc\u001B[39m\u001B[38;5;124m\"\u001B[39m\n\u001B[1;32m----> 3\u001B[0m s1 \u001B[38;5;241m=\u001B[39m \u001B[43mpyDMSP\u001B[49m\u001B[38;5;241;43m.\u001B[39;49m\u001B[43mNcFile\u001B[49m\u001B[43m(\u001B[49m\u001B[43mfile_path_s1\u001B[49m\u001B[43m)\u001B[49m\n\u001B[0;32m      4\u001B[0m ut \u001B[38;5;241m=\u001B[39m pyDMSP\u001B[38;5;241m.\u001B[39mNcFile(file_path_ut)\n\u001B[0;32m      5\u001B[0m data_s1 \u001B[38;5;241m=\u001B[39m s1\u001B[38;5;241m.\u001B[39moriginal_data\n",
      "File \u001B[1;32mG:\\0_postgraduate\\DMSP\\code\\pyDMSP\\__init__.py:29\u001B[0m, in \u001B[0;36mNcFile.__init__\u001B[1;34m(self, file_path, s1_or_ut)\u001B[0m\n\u001B[0;32m     27\u001B[0m \u001B[38;5;28mself\u001B[39m\u001B[38;5;241m.\u001B[39mdirectory \u001B[38;5;241m=\u001B[39m os\u001B[38;5;241m.\u001B[39mpath\u001B[38;5;241m.\u001B[39mdirname(\u001B[38;5;28mself\u001B[39m\u001B[38;5;241m.\u001B[39mfile_path)\n\u001B[0;32m     28\u001B[0m \u001B[38;5;28mself\u001B[39m\u001B[38;5;241m.\u001B[39mfilename \u001B[38;5;241m=\u001B[39m os\u001B[38;5;241m.\u001B[39mpath\u001B[38;5;241m.\u001B[39mbasename(\u001B[38;5;28mself\u001B[39m\u001B[38;5;241m.\u001B[39mfile_path)\n\u001B[1;32m---> 29\u001B[0m \u001B[38;5;28mself\u001B[39m\u001B[38;5;241m.\u001B[39mdata_details \u001B[38;5;241m=\u001B[39m \u001B[38;5;28;43mself\u001B[39;49m\u001B[38;5;241;43m.\u001B[39;49m\u001B[43mreturn_data_details\u001B[49m\u001B[43m(\u001B[49m\u001B[43m)\u001B[49m\n\u001B[0;32m     30\u001B[0m \u001B[38;5;28mself\u001B[39m\u001B[38;5;241m.\u001B[39mvariables \u001B[38;5;241m=\u001B[39m \u001B[38;5;28mself\u001B[39m\u001B[38;5;241m.\u001B[39mdata_details\u001B[38;5;241m.\u001B[39mkeys()\n\u001B[0;32m     31\u001B[0m \u001B[38;5;28mself\u001B[39m\u001B[38;5;241m.\u001B[39moriginal_data \u001B[38;5;241m=\u001B[39m \u001B[38;5;28mself\u001B[39m\u001B[38;5;241m.\u001B[39mreturn_original_data()\n",
      "File \u001B[1;32mG:\\0_postgraduate\\DMSP\\code\\pyDMSP\\__init__.py:48\u001B[0m, in \u001B[0;36mNcFile.return_data_details\u001B[1;34m(self)\u001B[0m\n\u001B[0;32m     46\u001B[0m \u001B[38;5;250m\u001B[39m\u001B[38;5;124;03m\"\"\"数据变量名及其描述\"\"\"\u001B[39;00m\n\u001B[0;32m     47\u001B[0m \u001B[38;5;66;03m# 使用 Dataset 打开文件\u001B[39;00m\n\u001B[1;32m---> 48\u001B[0m \u001B[38;5;28;01mwith\u001B[39;00m \u001B[43mDataset\u001B[49m\u001B[43m(\u001B[49m\u001B[38;5;28;43mself\u001B[39;49m\u001B[38;5;241;43m.\u001B[39;49m\u001B[43mfile_path\u001B[49m\u001B[43m,\u001B[49m\u001B[43m \u001B[49m\u001B[38;5;124;43m'\u001B[39;49m\u001B[38;5;124;43mr\u001B[39;49m\u001B[38;5;124;43m'\u001B[39;49m\u001B[43m)\u001B[49m \u001B[38;5;28;01mas\u001B[39;00m nc:\n\u001B[0;32m     49\u001B[0m     data_details \u001B[38;5;241m=\u001B[39m {}\n\u001B[0;32m     50\u001B[0m     \u001B[38;5;66;03m# 遍历文件中的变量\u001B[39;00m\n",
      "File \u001B[1;32msrc\\netCDF4\\_netCDF4.pyx:2464\u001B[0m, in \u001B[0;36mnetCDF4._netCDF4.Dataset.__init__\u001B[1;34m()\u001B[0m\n",
      "File \u001B[1;32msrc\\netCDF4\\_netCDF4.pyx:2027\u001B[0m, in \u001B[0;36mnetCDF4._netCDF4._ensure_nc_success\u001B[1;34m()\u001B[0m\n",
      "\u001B[1;31mFileNotFoundError\u001B[0m: [Errno 2] No such file or directory: 'G:\\\\0_postgraduate\\\\DMSP\\\\data\\\\2011\\\\15s1\\\\dms_20110101_15s1.001.nc'"
     ]
    }
   ],
   "execution_count": 4
  },
  {
   "metadata": {
    "ExecuteTime": {
     "end_time": "2024-05-04T13:31:51.168944Z",
     "start_time": "2024-05-04T13:31:51.168944Z"
    }
   },
   "cell_type": "code",
   "source": [
    "def get_va(data_s1, data_ut):\n",
    "    timestamps = data_ut['timestamps'].to_numpy()\n",
    "    start_time = timestamps[0]\n",
    "    end_time = timestamps[-1]\n",
    "    ni = data_ut['ni'].to_numpy()\n",
    "    po = data_ut['po+'].to_numpy()\n",
    "    phe = data_ut['phe+'].to_numpy()\n",
    "    ph = data_ut['ph+'].to_numpy()\n",
    "    high_res_timestamps = data_s1['timestamps'].to_numpy()\n",
    "    clipped_filter = (high_res_timestamps >= start_time) & (high_res_timestamps <= end_time)\n",
    "    high_res_timestamps_clipped = high_res_timestamps[clipped_filter]\n",
    "    \n",
    "    # bd\n",
    "    bd = data_s1['bd']\n",
    "    bd_clipped = bd[clipped_filter]\n",
    "    \n",
    "    interp_function_ni = interp1d(timestamps, ni, kind='linear')\n",
    "    high_res_ni = interp_function_ni(high_res_timestamps_clipped)\n",
    "    interp_function_po = interp1d(timestamps, po, kind='linear')\n",
    "    high_res_po = interp_function_po(high_res_timestamps_clipped)\n",
    "    interp_function_phe = interp1d(timestamps, phe, kind='linear')\n",
    "    high_res_phe = interp_function_phe(high_res_timestamps_clipped)\n",
    "    interp_function_ph = interp1d(timestamps, ph, kind='linear')\n",
    "    high_res_ph = interp_function_ph(high_res_timestamps_clipped)\n",
    "    \n",
    "    (mu0,r_mo,r_mh,r_mhe,NA) = (1.25663706212e-6,15.999,1.008,4.0026,6.02214076e23)  # r_mo 相对原子质量\n",
    "    mo = r_mo / (1000 * NA)  # kg 国际标准单位\n",
    "    mhe = r_mhe / (1000 * NA)  # kg 国际标准单位\n",
    "    mh = r_mh / (1000 * NA)  # kg 国际标准单位\n",
    "    no = high_res_ni*high_res_po\n",
    "    nhe = high_res_ni*high_res_phe\n",
    "    nh = high_res_ni*high_res_ph\n",
    "    rho = no*mo + nhe*mhe + nh*mh\n",
    "    va = bd_clipped / np.sqrt(mu0*rho)  # 索引问题：此处rho为ndarray没有index列，所以va的index由bd_clipped决定，而bd_clipped的index列是连续的\n",
    "    return va,clipped_filter"
   ],
   "id": "b9dd6bde7b419850",
   "outputs": [],
   "execution_count": null
  },
  {
   "metadata": {},
   "cell_type": "code",
   "source": [
    "va,clipped_filter = get_va(data_s1=data_s1, data_ut=data_ut)\n",
    "t = va.index.to_numpy()\n",
    "signal = va.values\n",
    "# 绘制原始信号\n",
    "plt.figure(figsize=(20,5))\n",
    "plt.plot(t, signal)\n",
    "plt.title('va')\n",
    "\n",
    "\n",
    "vert_ion_v = data_s1['vert_ion_v']\n",
    "vert_ion_v = vert_ion_v[clipped_filter]\n",
    "# t = vert_ion_v.index.to_numpy()  # va的index和clipped之后的任何来自s1的数据的index一样\n",
    "signal = vert_ion_v.values\n",
    "# 绘制原始信号\n",
    "plt.figure(figsize=(20,5))\n",
    "plt.plot(t, signal)\n",
    "plt.title('vert_ion_v')"
   ],
   "id": "b918533d5d4342d9",
   "outputs": [],
   "execution_count": null
  },
  {
   "metadata": {},
   "cell_type": "code",
   "source": [
    "va = va.fillna(method='ffill').fillna(method='bfill')\n",
    "t = va.index.to_numpy()\n",
    "signal = va.values\n",
    "# 进行傅里叶变换\n",
    "signal_fft = fft(signal)\n",
    "# 计算对应的频率\n",
    "sample_freq = fftfreq(signal.size, d=t[1] - t[0])\n",
    "# 绘制傅里叶变换结果的幅度谱（双边谱）\n",
    "plt.figure(figsize=(20,5))\n",
    "plt.plot(sample_freq, np.abs(signal_fft))\n",
    "plt.title('Spectrogram after Fourier Transform (va)')\n",
    "plt.xlabel('Frequency (Hz)')\n",
    "plt.ylabel('Amplitude')\n",
    "\n",
    "#\n",
    "vert_ion_v = vert_ion_v.fillna(method='ffill').fillna(method='bfill')\n",
    "# t = vert_ion_v.index.to_numpy()\n",
    "signal = vert_ion_v.values\n",
    "# 进行傅里叶变换\n",
    "signal_fft = fft(signal)\n",
    "# 计算对应的频率\n",
    "sample_freq = fftfreq(signal.size, d=t[1] - t[0])\n",
    "# 绘制傅里叶变换结果的幅度谱（双边谱）\n",
    "plt.figure(figsize=(20,5))\n",
    "plt.plot(sample_freq, np.abs(signal_fft))\n",
    "plt.title('Spectrogram after Fourier Transform (vert_ion_v)')\n",
    "plt.xlabel('Frequency (Hz)')\n",
    "plt.ylabel('Amplitude')"
   ],
   "id": "73c76fc7d3424b1d",
   "outputs": [],
   "execution_count": null
  },
  {
   "metadata": {},
   "cell_type": "code",
   "source": [
    "t = va.index.to_numpy()\n",
    "signal_va = va.values\n",
    "# 进行傅里叶变换\n",
    "signal_fft = fft(signal_va)\n",
    "# 计算对应的频率\n",
    "sample_freq = fftfreq(signal_va.size, d=t[1] - t[0])\n",
    "# 选取不同频率段，创建一个带通滤波器\n",
    "bandpass_filter = (sample_freq > 1/1580) & (sample_freq < 1/1000)\n",
    "filtered_signal_fft = signal_fft.copy()\n",
    "filtered_signal_fft[~bandpass_filter] = 0\n",
    "# 进行傅里叶反变换，得到过滤后的信号\n",
    "filtered_signal_va = np.real(np.fft.ifft(filtered_signal_fft))\n",
    "\n",
    "# 绘制过滤后的信号\n",
    "plt.figure(figsize=(20,5))\n",
    "plt.plot(t, filtered_signal_va)\n",
    "plt.title(f'Signal after bandpass filter (va)')\n",
    "plt.xlabel('Time (seconds)')\n",
    "plt.ylabel(f'va')\n",
    "\n",
    "#\n",
    "# t = vert_ion_v.index.to_numpy()\n",
    "signal_vert_ion_v = vert_ion_v.values\n",
    "# 进行傅里叶变换\n",
    "signal_fft = fft(signal_vert_ion_v)\n",
    "# 计算对应的频率\n",
    "sample_freq = fftfreq(signal_vert_ion_v.size, d=t[1] - t[0])\n",
    "# 选取不同频率段，创建一个带通滤波器\n",
    "bandpass_filter = (sample_freq > 1/1580) & (sample_freq < 1/1000)\n",
    "filtered_signal_fft = signal_fft.copy()\n",
    "filtered_signal_fft[~bandpass_filter] = 0\n",
    "# 进行傅里叶反变换，得到过滤后的信号\n",
    "filtered_signal_vert_ion_v = np.real(np.fft.ifft(filtered_signal_fft))\n",
    "\n",
    "# 绘制过滤后的信号\n",
    "plt.figure(figsize=(20,5))\n",
    "plt.plot(t, filtered_signal_vert_ion_v)\n",
    "plt.title(f'Signal after bandpass filter (vert_ion_v)')\n",
    "plt.xlabel('Time (seconds)')\n",
    "plt.ylabel(f'vert_ion_v')"
   ],
   "id": "3e8c969e36bdadf2",
   "outputs": [],
   "execution_count": null
  },
  {
   "metadata": {},
   "cell_type": "code",
   "source": [
    "fig,ax1 = plt.subplots(figsize=(20,5))\n",
    "\n",
    "# 绘制第一组数据，使用左侧y轴\n",
    "color = 'tab:red'\n",
    "ax1.set_xlabel('Time (seconds)')\n",
    "ax1.set_ylabel('vert_ion_v', color=color)\n",
    "ax1.plot(t, filtered_signal_vert_ion_v, color=color)\n",
    "ax1.tick_params(axis='y', labelcolor=color)\n",
    "\n",
    "# 创建第二个坐标轴，共享同一个x轴\n",
    "ax2 = ax1.twinx()  \n",
    "color = 'tab:blue'\n",
    "ax2.set_ylabel('va', color=color)\n",
    "ax2.plot(t, filtered_signal_va, color=color)\n",
    "ax2.tick_params(axis='y', labelcolor=color)\n",
    "\n",
    "# 显示图形\n",
    "fig.tight_layout()  # 可选，为了更好的布局\n",
    "plt.show()"
   ],
   "id": "1ca49d5a88747ae4",
   "outputs": [],
   "execution_count": null
  }
 ],
 "metadata": {
  "kernelspec": {
   "display_name": "Python 3",
   "language": "python",
   "name": "python3"
  },
  "language_info": {
   "codemirror_mode": {
    "name": "ipython",
    "version": 2
   },
   "file_extension": ".py",
   "mimetype": "text/x-python",
   "name": "python",
   "nbconvert_exporter": "python",
   "pygments_lexer": "ipython2",
   "version": "2.7.6"
  }
 },
 "nbformat": 4,
 "nbformat_minor": 5
}
