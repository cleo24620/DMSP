{
 "cells": [
  {
   "metadata": {
    "ExecuteTime": {
     "end_time": "2024-05-04T13:35:38.967546Z",
     "start_time": "2024-05-04T13:35:37.944611Z"
    }
   },
   "cell_type": "code",
   "source": [
    "import pyDMSP\n",
    "import numpy as np"
   ],
   "id": "6380ea6517d62f3b",
   "outputs": [],
   "execution_count": 1
  },
  {
   "metadata": {
    "ExecuteTime": {
     "end_time": "2024-05-04T13:35:38.972072Z",
     "start_time": "2024-05-04T13:35:38.968559Z"
    }
   },
   "cell_type": "code",
   "source": [
    "ssies3_fp = r\"G:\\0_postgraduate\\DMSP\\data\\2014\\f16\\ssies3\\dmsp-f16_ssies-3_thermal-plasma_201401010137_v01.cdf\"\n",
    "ssm_fp = r\"G:\\0_postgraduate\\DMSP\\data\\2014\\f16\\ssm\\dmsp-f16_ssm_magnetometer_20140101_v1.0.4.cdf\""
   ],
   "id": "c8d64f9e53d8d7dd",
   "outputs": [],
   "execution_count": 2
  },
  {
   "metadata": {
    "ExecuteTime": {
     "end_time": "2024-05-04T13:35:39.016412Z",
     "start_time": "2024-05-04T13:35:38.973080Z"
    }
   },
   "cell_type": "code",
   "source": [
    "ssies3 = pyDMSP.CDFFile(ssies3_fp)\n",
    "ssies3_data = ssies3.ssies3_data()"
   ],
   "id": "a345623f7cd6d5cc",
   "outputs": [],
   "execution_count": 3
  },
  {
   "metadata": {
    "ExecuteTime": {
     "end_time": "2024-05-04T13:35:39.020825Z",
     "start_time": "2024-05-04T13:35:39.017423Z"
    }
   },
   "cell_type": "code",
   "source": "dens = ssies3_data['dens'][0]*1e6",
   "id": "9d831f2efa4441be",
   "outputs": [],
   "execution_count": 4
  },
  {
   "metadata": {
    "ExecuteTime": {
     "end_time": "2024-05-04T13:35:39.026051Z",
     "start_time": "2024-05-04T13:35:39.022832Z"
    }
   },
   "cell_type": "code",
   "source": "frach = ssies3_data['frach'][0]",
   "id": "9a61a56229614694",
   "outputs": [],
   "execution_count": 5
  },
  {
   "metadata": {
    "ExecuteTime": {
     "end_time": "2024-05-04T13:35:39.030717Z",
     "start_time": "2024-05-04T13:35:39.027057Z"
    }
   },
   "cell_type": "code",
   "source": "frache = ssies3_data['frache'][0]",
   "id": "6e24f5cbeb2a3051",
   "outputs": [],
   "execution_count": 6
  },
  {
   "metadata": {
    "ExecuteTime": {
     "end_time": "2024-05-04T13:35:39.034989Z",
     "start_time": "2024-05-04T13:35:39.031725Z"
    }
   },
   "cell_type": "code",
   "source": "fraco = ssies3_data['fraco'][0]",
   "id": "66b8882b60855735",
   "outputs": [],
   "execution_count": 7
  },
  {
   "metadata": {
    "ExecuteTime": {
     "end_time": "2024-05-04T13:35:39.039103Z",
     "start_time": "2024-05-04T13:35:39.036435Z"
    }
   },
   "cell_type": "code",
   "source": "bx = ssies3_data['bx'][0] * 1e-9",
   "id": "306791dbf6246465",
   "outputs": [],
   "execution_count": 8
  },
  {
   "metadata": {
    "ExecuteTime": {
     "end_time": "2024-05-04T13:35:39.043127Z",
     "start_time": "2024-05-04T13:35:39.040110Z"
    }
   },
   "cell_type": "code",
   "source": "(mu0,r_mo,r_mh,r_mhe,NA) = (1.25663706212e-6,15.999,1.008,4.0026,6.02214076e23)",
   "id": "9319b17acb929dca",
   "outputs": [],
   "execution_count": 9
  },
  {
   "metadata": {
    "ExecuteTime": {
     "end_time": "2024-05-04T13:35:39.047850Z",
     "start_time": "2024-05-04T13:35:39.044133Z"
    }
   },
   "cell_type": "code",
   "source": [
    "mo = r_mo / (1000 * NA)  # kg 国际标准单位\n",
    "mhe = r_mhe / (1000 * NA)  # kg 国际标准单位\n",
    "mh = r_mh / (1000 * NA)  # kg 国际标准单位"
   ],
   "id": "9c9c3ab358f68fbb",
   "outputs": [],
   "execution_count": 10
  },
  {
   "metadata": {
    "ExecuteTime": {
     "end_time": "2024-05-04T13:35:39.051940Z",
     "start_time": "2024-05-04T13:35:39.048357Z"
    }
   },
   "cell_type": "code",
   "source": [
    "no = dens*fraco\n",
    "nhe = dens*frache\n",
    "nh = dens*frach\n",
    "rho = no*mo + nhe*mhe + nh*mh"
   ],
   "id": "c930f4d6dd564259",
   "outputs": [],
   "execution_count": 11
  },
  {
   "metadata": {
    "ExecuteTime": {
     "end_time": "2024-05-04T13:35:39.055490Z",
     "start_time": "2024-05-04T13:35:39.052946Z"
    }
   },
   "cell_type": "code",
   "source": "vax = bx/np.sqrt(mu0*rho)",
   "id": "fb1c819b2ffcb3f0",
   "outputs": [],
   "execution_count": 12
  },
  {
   "metadata": {
    "ExecuteTime": {
     "end_time": "2024-05-04T13:35:39.061068Z",
     "start_time": "2024-05-04T13:35:39.056495Z"
    }
   },
   "cell_type": "code",
   "source": "bx",
   "id": "ad96f8a6e3cf6c6",
   "outputs": [
    {
     "data": {
      "text/plain": [
       "2.06457890625e-05"
      ]
     },
     "execution_count": 13,
     "metadata": {},
     "output_type": "execute_result"
    }
   ],
   "execution_count": 13
  },
  {
   "metadata": {
    "ExecuteTime": {
     "end_time": "2024-05-04T13:35:39.066095Z",
     "start_time": "2024-05-04T13:35:39.062081Z"
    }
   },
   "cell_type": "code",
   "source": "vax",
   "id": "ffc37843a66420df",
   "outputs": [
    {
     "data": {
      "text/plain": [
       "499541.3917055511"
      ]
     },
     "execution_count": 14,
     "metadata": {},
     "output_type": "execute_result"
    }
   ],
   "execution_count": 14
  },
  {
   "metadata": {
    "ExecuteTime": {
     "end_time": "2024-05-04T13:36:43.286070Z",
     "start_time": "2024-05-04T13:36:43.281774Z"
    }
   },
   "cell_type": "code",
   "source": [
    "vx = fraco = ssies3_data['vx'][0]\n",
    "vx"
   ],
   "id": "6458a0dd6f3c38d3",
   "outputs": [
    {
     "data": {
      "text/plain": [
       "92.99018"
      ]
     },
     "execution_count": 16,
     "metadata": {},
     "output_type": "execute_result"
    }
   ],
   "execution_count": 16
  }
 ],
 "metadata": {
  "kernelspec": {
   "display_name": "Python 3",
   "language": "python",
   "name": "python3"
  },
  "language_info": {
   "codemirror_mode": {
    "name": "ipython",
    "version": 2
   },
   "file_extension": ".py",
   "mimetype": "text/x-python",
   "name": "python",
   "nbconvert_exporter": "python",
   "pygments_lexer": "ipython2",
   "version": "2.7.6"
  }
 },
 "nbformat": 4,
 "nbformat_minor": 5
}
