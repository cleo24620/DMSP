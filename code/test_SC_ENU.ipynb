{
 "cells": [
  {
   "cell_type": "code",
   "id": "initial_id",
   "metadata": {
    "collapsed": true,
    "ExecuteTime": {
     "end_time": "2024-05-05T02:53:28.481036Z",
     "start_time": "2024-05-05T02:53:28.477156Z"
    }
   },
   "source": [
    "import os\n",
    "from datetime import datetime\n",
    "from typing import Optional\n",
    "\n",
    "from netCDF4 import Dataset\n",
    "import spacepy.pycdf\n",
    "import h5py\n",
    "import numpy as np\n",
    "import pandas as pd\n",
    "from scipy.fft import fft, fftfreq\n",
    "import matplotlib.pyplot as plt\n",
    "import matplotlib.dates as mdates\n",
    "import re\n",
    "\n",
    "import pyDMSP"
   ],
   "outputs": [],
   "execution_count": 5
  },
  {
   "metadata": {
    "ExecuteTime": {
     "end_time": "2024-05-05T02:53:28.544004Z",
     "start_time": "2024-05-05T02:53:28.482041Z"
    }
   },
   "cell_type": "code",
   "source": [
    "ssies3_fp = r\"G:\\0_postgraduate\\DMSP\\data\\2014\\f16\\ssies3\\dmsp-f16_ssies-3_thermal-plasma_201401010137_v01.cdf\"\n",
    "ssies3 = pyDMSP.CDFFile(ssies3_fp,is_f17=False)\n",
    "ssies3_data = ssies3.ssies3_data()"
   ],
   "id": "391ddc3231c5c9f9",
   "outputs": [],
   "execution_count": 6
  },
  {
   "metadata": {
    "ExecuteTime": {
     "end_time": "2024-05-05T03:10:02.232052Z",
     "start_time": "2024-05-05T03:10:01.654495Z"
    }
   },
   "cell_type": "code",
   "source": [
    "ssm_fp = r\"G:\\0_postgraduate\\DMSP\\data\\2014\\f16\\ssm\\dmsp-f16_ssm_magnetometer_20140101_v1.0.4.cdf\"\n",
    "ssm = pyDMSP.CDFFile(ssm_fp,is_f17=False)\n",
    "ssm_data = ssm.ssm_data()"
   ],
   "id": "7c1d4d60aab4d475",
   "outputs": [],
   "execution_count": 11
  },
  {
   "metadata": {
    "ExecuteTime": {
     "end_time": "2024-05-05T03:30:36.858096Z",
     "start_time": "2024-05-05T03:30:36.854769Z"
    }
   },
   "cell_type": "code",
   "source": "v = np.array([ssm_data['SC_ALONG_GEO_x'].iloc[0],ssm_data['SC_ALONG_GEO_y'].iloc[0],ssm_data['SC_ALONG_GEO_z'].iloc[0]]) ",
   "id": "e8b64863a3987572",
   "outputs": [],
   "execution_count": 13
  },
  {
   "metadata": {
    "ExecuteTime": {
     "end_time": "2024-05-05T03:34:07.275670Z",
     "start_time": "2024-05-05T03:34:07.271704Z"
    }
   },
   "cell_type": "code",
   "source": "w = -np.array([ssm_data['SC_ACROSS_GEO_x'].iloc[0],ssm_data['SC_ACROSS_GEO_y'].iloc[0],ssm_data['SC_ACROSS_GEO_z'].iloc[0]])",
   "id": "e5f48d99e2119388",
   "outputs": [],
   "execution_count": 18
  },
  {
   "metadata": {
    "ExecuteTime": {
     "end_time": "2024-05-05T03:40:45.742125Z",
     "start_time": "2024-05-05T03:40:45.739161Z"
    }
   },
   "cell_type": "code",
   "source": "u = np.cross(v,w)",
   "id": "c81eca267a9e0ad1",
   "outputs": [],
   "execution_count": 23
  },
  {
   "metadata": {
    "ExecuteTime": {
     "end_time": "2024-05-05T03:41:52.675322Z",
     "start_time": "2024-05-05T03:41:52.671735Z"
    }
   },
   "cell_type": "code",
   "source": "v = np.array([ssm_data['SC_ALONG_GEO_x'],ssm_data['SC_ALONG_GEO_y'],ssm_data['SC_ALONG_GEO_z']])",
   "id": "f4c329652b5ec752",
   "outputs": [],
   "execution_count": 25
  },
  {
   "metadata": {
    "ExecuteTime": {
     "end_time": "2024-05-05T03:43:42.956881Z",
     "start_time": "2024-05-05T03:43:42.952495Z"
    }
   },
   "cell_type": "code",
   "source": "w = -np.array([ssm_data['SC_ACROSS_GEO_x'],ssm_data['SC_ACROSS_GEO_y'],ssm_data['SC_ACROSS_GEO_z']])",
   "id": "999038d72bcb45c5",
   "outputs": [],
   "execution_count": 26
  }
 ],
 "metadata": {
  "kernelspec": {
   "display_name": "Python 3",
   "language": "python",
   "name": "python3"
  },
  "language_info": {
   "codemirror_mode": {
    "name": "ipython",
    "version": 2
   },
   "file_extension": ".py",
   "mimetype": "text/x-python",
   "name": "python",
   "nbconvert_exporter": "python",
   "pygments_lexer": "ipython2",
   "version": "2.7.6"
  }
 },
 "nbformat": 4,
 "nbformat_minor": 5
}
