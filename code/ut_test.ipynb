{
 "cells": [
  {
   "cell_type": "code",
   "id": "initial_id",
   "metadata": {
    "collapsed": true,
    "ExecuteTime": {
     "end_time": "2024-04-11T07:25:41.163806Z",
     "start_time": "2024-04-11T07:25:40.643959Z"
    }
   },
   "source": [
    "import pandas as pd\n",
    "from netCDF4 import Dataset\n",
    "# import time\n",
    "# import ree\n",
    "\n",
    "\n",
    "p = \"../data/f15ut/2011/dms_ut_20110101_15.002.nc\"\n",
    "# p = \"../data/f15s1/2011/dms_20110101_15s1.001.nc\"\n",
    "nc_obj = Dataset(p)"
   ],
   "outputs": [],
   "execution_count": 1
  },
  {
   "cell_type": "code",
   "source": [
    "data = {}\n",
    "for k in nc_obj.variables.keys():\n",
    "    data[k] = nc_obj.variables[k][:]"
   ],
   "metadata": {
    "collapsed": false,
    "ExecuteTime": {
     "end_time": "2024-04-11T07:25:52.802765Z",
     "start_time": "2024-04-11T07:25:52.781551Z"
    }
   },
   "id": "c8b698eeb82e185d",
   "outputs": [],
   "execution_count": 2
  },
  {
   "cell_type": "code",
   "source": [
    "data = pd.DataFrame(data)"
   ],
   "metadata": {
    "collapsed": false,
    "ExecuteTime": {
     "end_time": "2024-04-11T07:25:57.669533Z",
     "start_time": "2024-04-11T07:25:57.658540Z"
    }
   },
   "id": "ac35512df3a61dd6",
   "outputs": [],
   "execution_count": 3
  }
 ],
 "metadata": {
  "kernelspec": {
   "display_name": "Python 3",
   "language": "python",
   "name": "python3"
  },
  "language_info": {
   "codemirror_mode": {
    "name": "ipython",
    "version": 2
   },
   "file_extension": ".py",
   "mimetype": "text/x-python",
   "name": "python",
   "nbconvert_exporter": "python",
   "pygments_lexer": "ipython2",
   "version": "2.7.6"
  }
 },
 "nbformat": 4,
 "nbformat_minor": 5
}
