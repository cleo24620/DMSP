{
 "cells": [
  {
   "metadata": {
    "ExecuteTime": {
     "end_time": "2024-04-17T10:07:01.974520Z",
     "start_time": "2024-04-17T10:07:01.971238Z"
    }
   },
   "cell_type": "code",
   "source": "from refractor_funcs import read_nc_details,get_data",
   "id": "290717b513e052b5",
   "outputs": [],
   "execution_count": 51
  },
  {
   "metadata": {
    "ExecuteTime": {
     "end_time": "2024-04-17T10:07:02.087119Z",
     "start_time": "2024-04-17T10:07:01.977525Z"
    }
   },
   "cell_type": "code",
   "source": [
    "file_path = r\"G:\\0_postgraduate\\DMSP\\data\\2011\\ut\\dms_ut_20110105_15.002.nc\"\n",
    "data_details = read_nc_details(file_path)\n",
    "data = get_data(file_path,data_details.keys())\n",
    "pre_data = data.copy()"
   ],
   "id": "3a78f4116d666acd",
   "outputs": [],
   "execution_count": 52
  },
  {
   "metadata": {
    "ExecuteTime": {
     "end_time": "2024-04-17T10:07:02.092781Z",
     "start_time": "2024-04-17T10:07:02.089122Z"
    }
   },
   "cell_type": "code",
   "source": [
    "# basic parameter\n",
    "(mu0,r_mo,r_mh,r_mhe,NA) = (1.25663706212e-6,15.999,1.008,4.0026,6.02214076e23)  # r_mo 相对原子质量\n",
    "mo = r_mo / (1000 * NA)  # kg 国际标准单位\n",
    "mh = r_mh / (1000 * NA)\n",
    "mhe = r_mhe / (1000 * NA)"
   ],
   "id": "8f5f0203b9bc8142",
   "outputs": [],
   "execution_count": 53
  },
  {
   "metadata": {
    "ExecuteTime": {
     "end_time": "2024-04-17T10:07:02.099373Z",
     "start_time": "2024-04-17T10:07:02.093785Z"
    }
   },
   "cell_type": "code",
   "source": [
    "no = data['ni']*data['po+']\n",
    "nh = data['ni']*data['ph+']\n",
    "nhe = data['ni']*data['phe+']\n",
    "rho = no*mo + nh*mh + nhe*mhe"
   ],
   "id": "cd39dbd835588131",
   "outputs": [],
   "execution_count": 54
  }
 ],
 "metadata": {
  "kernelspec": {
   "display_name": "Python 3",
   "language": "python",
   "name": "python3"
  },
  "language_info": {
   "codemirror_mode": {
    "name": "ipython",
    "version": 2
   },
   "file_extension": ".py",
   "mimetype": "text/x-python",
   "name": "python",
   "nbconvert_exporter": "python",
   "pygments_lexer": "ipython2",
   "version": "2.7.6"
  }
 },
 "nbformat": 4,
 "nbformat_minor": 5
}
