{
 "cells": [
  {
   "cell_type": "code",
   "id": "initial_id",
   "metadata": {
    "collapsed": true,
    "ExecuteTime": {
     "end_time": "2024-04-24T05:44:44.974219Z",
     "start_time": "2024-04-24T05:44:18.638859Z"
    }
   },
   "source": [
    "#  Install these prerequisites once before executing the example code:\n",
    "#  Option 1.\n",
    "#    pip install -U spacepy\n",
    "#    pip install -U cdasws\n",
    "#  Option 2.\n",
    "#    pip install -U xarray\n",
    "#    pip install -U cdflib\n",
    "#    pip install -U cdasws\n",
    "\n",
    "from cdasws import CdasWs\n",
    "cdas = CdasWs()\n",
    "\n",
    "dataset = 'DMSP-F18_SSIES-3_THERMAL-PLASMA'\n",
    "# Edit the following var_names and example_interval \n",
    "# variables to suit your needs.\n",
    "var_names = cdas.get_variable_names(dataset)\n",
    "print('Variable names:', var_names)\n",
    "example_interval = cdas.get_example_time_interval(dataset)\n",
    "print('Example time interval:', example_interval)\n",
    "status, data = cdas.get_data(dataset, var_names, example_interval)  # 此处的example_interval当我选取时间段时，需要分成2个输入参数。\n",
    "\n",
    "if 'spacepy' in str(type(data)):\n",
    "    #  see https://spacepy.github.io/datamodel.html\n",
    "    print(var_names[0], '=', data[var_names[0]])  # 打印1个变量看看\n",
    "    print(data[var_names[0]].attrs)\n",
    "else:\n",
    "    #  see https://github.com/MAVENSDC/cdflib\n",
    "    print(var_names[0], '=', data.data_vars[var_names[0]].values)\n",
    "    print(data.data_vars[var_names[0]].attrs)"
   ],
   "outputs": [
    {
     "name": "stdout",
     "output_type": "stream",
     "text": [
      "Variable names: ['vx', 'vxqual', 'vxrms', 'vxraw', 'vy', 'vyqual', 'vyrms', 'dmhrough', 'vz', 'vzqual', 'vzrms', 'dmvrough', 'temp', 'tempqual', 'te', 'dens', 'densqual', 'ductdens', 'ductdensrough', 'dens0v', 'dmdens', 'frach', 'frachqual', 'frache', 'frachequal', 'fraco', 'fracoqual', 'ebm', 'corrpaqual', 'rpainfo', 'glat', 'glon', 'mlat', 'mlt', 'sza', 'alt', 'mlat_tt', 'mlt_tt', 'glat_tt', 'glon_tt', 'sza_tt', 'alt_tt', 'nmbot', 'idmqual', 'scvel', 'rpaground', 'pot', 'bx', 'by', 'bz', 'corvelx', 'corvely', 'corvelz']\n",
      "Example time interval: 2023-12-31T21:59:16+00:00 2023-12-31T23:59:16+00:00\n",
      "vx = [120.845     120.845     120.8441    ...  -0.780766   -4.02099\n",
      "   0.3504052]\n",
      "{'FIELDNAM': 'vx', 'CATDESC': 'Vx - median filtered and smoothed ion flow in the ram direction', 'DEPEND_0': 'Epoch', 'FILLVAL': -999999.0, 'FORMAT': 'F8.0', 'LABLAXIS': 'vx', 'UNITS': 'm/s', 'VALIDMIN': -2000.0, 'VALIDMAX': 2000.0, 'VAR_TYPE': 'data', 'VAR_NOTES': 'median filtered and smoothed ion flow in the ram direction from the fits to the RPA curve', 'DIM_SIZES': 0}\n",
      "{'Epoch': VarCopy([datetime.datetime(2023, 12, 31, 21, 59, 16),\n",
      "         datetime.datetime(2023, 12, 31, 21, 59, 17),\n",
      "         datetime.datetime(2023, 12, 31, 21, 59, 18), ...,\n",
      "         datetime.datetime(2023, 12, 31, 23, 59, 14),\n",
      "         datetime.datetime(2023, 12, 31, 23, 59, 15),\n",
      "         datetime.datetime(2023, 12, 31, 23, 59, 16)], dtype=object), 'vx': VarCopy([120.845    , 120.845    , 120.8441   , ...,  -0.780766 ,\n",
      "          -4.02099  ,   0.3504052], dtype=float32), 'vxqual': VarCopy([1, 1, 1, ..., 1, 1, 1], dtype=uint8), 'vxrms': VarCopy([0.00299259, 0.00257693, 0.00261992, ..., 0.00585069, 0.00503636,\n",
      "         0.00553362], dtype=float32), 'vxraw': VarCopy([120.8468   , 105.1808   , 102.1474   , ...,   0.2482738,\n",
      "          -4.02099  ,   0.3504052], dtype=float32), 'vy': VarCopy([ -61.60027,  -61.07727,  -60.62564, ...,  -43.41397,  -35.48785,\n",
      "         -247.819  ], dtype=float32), 'vyqual': VarCopy([1, 1, 1, ..., 1, 1, 1], dtype=uint8), 'vyrms': VarCopy([0., 0., 0., ..., 0., 0., 0.], dtype=float32), 'dmhrough': VarCopy([-1.933168e-05, -1.933168e-05, -1.933168e-05, ..., -1.228667e-05,\n",
      "         -1.228775e-05, -1.228884e-05], dtype=float32), 'vz': VarCopy([87.09972, 87.09972, 87.09972, ..., 29.03493, 29.03493, 29.03493],\n",
      "        dtype=float32), 'vzqual': VarCopy([1, 1, 1, ..., 1, 1, 1], dtype=uint8), 'vzrms': VarCopy([0.000000e+00, 0.000000e+00, 0.000000e+00, ..., 3.303625e-06,\n",
      "         3.303625e-06, 3.303625e-06], dtype=float32), 'dmvrough': VarCopy([6.439725e-05, 6.439725e-05, 6.439725e-05, ..., 2.206531e-04,\n",
      "         2.206726e-04, 2.206921e-04], dtype=float32), 'temp': VarCopy([2996.962, 2980.042, 3001.943, ..., 1979.371, 1970.567, 1972.705],\n",
      "        dtype=float32), 'tempqual': VarCopy([1, 1, 1, ..., 3, 3, 3], dtype=uint8), 'te': VarCopy([3695.007, 3695.007, 3695.007, ..., 1642.225, 1642.225, 1642.225],\n",
      "        dtype=float32), 'dens': VarCopy([ 51966.1,  51752.1,  51736.1, ..., 181047.1, 180871.1, 180969.1],\n",
      "        dtype=float32), 'densqual': VarCopy([1, 1, 1, ..., 1, 1, 1], dtype=uint8), 'ductdens': VarCopy([ 52556.51,  52493.71,  52437.98, ..., 185770.4 , 185725.8 ,\n",
      "         185705.9 ], dtype=float32), 'ductdensrough': VarCopy([0.00033934, 0.0002975 , 0.00031817, ..., 0.00035964, 0.00028761,\n",
      "         0.00035833], dtype=float32), 'dens0v': VarCopy([ 51097.51,  51097.51,  51097.51, ..., 181407.2 , 181527.3 ,\n",
      "         181527.3 ], dtype=float32), 'dmdens': VarCopy([ 46577.72,  45724.08,  46577.72, ..., 164678.7 , 164670.6 ,\n",
      "         164678.7 ], dtype=float32), 'frach': VarCopy([0.02513809, 0.02495951, 0.02446892, ..., 0.07250507, 0.07197461,\n",
      "         0.07213446], dtype=float32), 'frachqual': VarCopy([2, 2, 2, ..., 1, 1, 1], dtype=uint8), 'frache': VarCopy([-0.00163984, -0.00286436, -0.00114787, ..., -0.00807905,\n",
      "         -0.00666833, -0.00646794], dtype=float32), 'frachequal': VarCopy([4, 4, 4, ..., 4, 4, 4], dtype=uint8), 'fraco': VarCopy([0.9765017, 0.9779049, 0.976679 , ..., 0.935574 , 0.9346938,\n",
      "         0.9343335], dtype=float32), 'fracoqual': VarCopy([1, 1, 1, ..., 1, 1, 1], dtype=uint8), 'ebm': VarCopy([-1.1075e-10, -1.5525e-10, -1.5525e-10, ..., -5.5500e-11,\n",
      "         -5.7000e-11, -5.7000e-11], dtype=float32), 'corrpaqual': VarCopy([1, 1, 1, ..., 3, 3, 3], dtype=uint8), 'rpainfo': VarCopy([2, 1, 2, ..., 2, 1, 2], dtype=uint8), 'glat': VarCopy([-6.279315e+01, -6.273720e+01, -6.268125e+01, ..., -1.258941e-01,\n",
      "         -6.994114e-02, -1.398823e-02], dtype=float32), 'glon': VarCopy([286.2621, 286.2201, 286.1712, ..., 238.877 , 238.863 , 238.849 ],\n",
      "        dtype=float32), 'mlat': VarCopy([-48.03391 , -47.98156 , -47.9292  , ...,   4.320017,   4.372812,\n",
      "           4.4256  ], dtype=float32), 'mlt': VarCopy([17.34387, 17.34143, 17.33899, ..., 15.70166, 15.70079, 15.69994],\n",
      "        dtype=float32), 'sza': VarCopy([62.94245, 62.92109, 62.89976, ..., 60.67022, 60.68826, 60.70634],\n",
      "        dtype=float32), 'alt': VarCopy([863.2505, 863.2468, 863.2616, ..., 846.1232, 846.1232, 846.1232],\n",
      "        dtype=float32), 'mlat_tt': VarCopy([-48.03391 , -47.98156 , -47.9292  , ...,   4.320017,   4.372812,\n",
      "           4.4256  ], dtype=float32), 'mlt_tt': VarCopy([17.34387, 17.34143, 17.33899, ..., 15.70166, 15.70079, 15.69994],\n",
      "        dtype=float32), 'glat_tt': VarCopy([-6.279315e+01, -6.273720e+01, -6.268125e+01, ..., -1.258941e-01,\n",
      "         -6.994114e-02, -1.398823e-02], dtype=float32), 'glon_tt': VarCopy([286.2621, 286.2201, 286.1712, ..., 238.877 , 238.863 , 238.849 ],\n",
      "        dtype=float32), 'sza_tt': VarCopy([62.94245, 62.92109, 62.89976, ..., 60.67022, 60.68826, 60.70634],\n",
      "        dtype=float32), 'alt_tt': VarCopy([863.2505, 863.2468, 863.2616, ..., 846.1232, 846.1232, 846.1232],\n",
      "        dtype=float32), 'nmbot': VarCopy([6.061, 6.061, 6.061, ..., 6.061, 6.061, 6.061], dtype=float32), 'idmqual': VarCopy([1, 1, 1, ..., 1, 1, 1], dtype=uint8), 'scvel': VarCopy([7427.8, 7427.8, 7427.8, ..., 7427.8, 7427.8, 7427.8],\n",
      "        dtype=float32), 'rpaground': VarCopy([19.2 , 19.2 , 19.2 , ..., 21.28, 21.28, 21.28], dtype=float32), 'pot': VarCopy([-1.352928 , -1.335616 , -1.326223 , ..., -0.7571563, -0.756878 ,\n",
      "         -0.7587638], dtype=float32), 'bx': VarCopy([12796.64, 12800.91, 12805.19, ..., 20206.18, 20206.76, 20207.32],\n",
      "        dtype=float32), 'by': VarCopy([3947.315, 3947.705, 3948.078, ..., 3204.402, 3203.078, 3201.761],\n",
      "        dtype=float32), 'bz': VarCopy([-23150.2  , -23128.   , -23105.79 , ...,   3747.962,   3788.836,\n",
      "           3829.722], dtype=float32), 'corvelx': VarCopy([-81.20817, -81.20817, -81.20817, ..., -81.20817, -81.20817,\n",
      "         -81.20817], dtype=float32), 'corvely': VarCopy([-228.5444, -229.0674, -229.519 , ..., -478.0169, -485.943 ,\n",
      "         -273.6118], dtype=float32), 'corvelz': VarCopy([0., 0., 0., ..., 0., 0., 0.], dtype=float32)}\n"
     ]
    }
   ],
   "execution_count": 1
  }
 ],
 "metadata": {
  "kernelspec": {
   "display_name": "Python 3",
   "language": "python",
   "name": "python3"
  },
  "language_info": {
   "codemirror_mode": {
    "name": "ipython",
    "version": 2
   },
   "file_extension": ".py",
   "mimetype": "text/x-python",
   "name": "python",
   "nbconvert_exporter": "python",
   "pygments_lexer": "ipython2",
   "version": "2.7.6"
  }
 },
 "nbformat": 4,
 "nbformat_minor": 5
}
